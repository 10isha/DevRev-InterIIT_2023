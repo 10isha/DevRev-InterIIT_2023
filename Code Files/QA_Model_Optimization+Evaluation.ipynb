{
  "cells": [
    {
      "cell_type": "markdown",
      "metadata": {
        "id": "sdOGhIV3-V8U"
      },
      "source": [
        "# HOW TO RUN!!!\n",
        "\n",
        "Set Variables Accordingly\n",
        "\n",
        "model_name: Huggingface Model Id\n",
        "\n",
        "m: Informal Model Name(Used for saving results)\n",
        "\n",
        "### Run These Sections:\n",
        "\n",
        "1) Imports\n",
        "\n",
        "2) Loading Base(Inside Model)\n",
        "\n",
        "3) ||Optional|| Run the Pruning or Quantization Section or or Dynamic Quantization or None according to requirement (Both Sections Inside Model)\n",
        "\n",
        "4) Prediction\n",
        "\n",
        "\n",
        "### Can Also Change Type or amount of pruning by uncommenting cells in Pruning Section."
      ]
    },
    {
      "cell_type": "markdown",
      "metadata": {
        "id": "ey1cDUuth372"
      },
      "source": [
        "# Variables"
      ]
    },
    {
      "cell_type": "code",
      "execution_count": 1,
      "metadata": {
        "id": "GeyjSxArh27T"
      },
      "outputs": [],
      "source": [
        "model_name = \"navteca/electra-base-squad2\"\n",
        "m='ELECTRA'"
      ]
    },
    {
      "cell_type": "markdown",
      "metadata": {
        "id": "Ne3y_6v3Tx06"
      },
      "source": [
        "# Imports"
      ]
    },
    {
      "cell_type": "code",
      "execution_count": 2,
      "metadata": {
        "colab": {
          "base_uri": "https://localhost:8080/"
        },
        "id": "X_-xvgP4y3fF",
        "outputId": "86eae561-8c72-4043-d000-d59b790ce2c8"
      },
      "outputs": [
        {
          "output_type": "stream",
          "name": "stdout",
          "text": [
            "Looking in indexes: https://pypi.org/simple, https://us-python.pkg.dev/colab-wheels/public/simple/\n",
            "Collecting transformers\n",
            "  Downloading transformers-4.26.1-py3-none-any.whl (6.3 MB)\n",
            "\u001b[2K     \u001b[90m━━━━━━━━━━━━━━━━━━━━━━━━━━━━━━━━━━━━━━━━\u001b[0m \u001b[32m6.3/6.3 MB\u001b[0m \u001b[31m74.4 MB/s\u001b[0m eta \u001b[36m0:00:00\u001b[0m\n",
            "\u001b[?25hRequirement already satisfied: numpy>=1.17 in /usr/local/lib/python3.8/dist-packages (from transformers) (1.21.6)\n",
            "Requirement already satisfied: pyyaml>=5.1 in /usr/local/lib/python3.8/dist-packages (from transformers) (6.0)\n",
            "Requirement already satisfied: requests in /usr/local/lib/python3.8/dist-packages (from transformers) (2.25.1)\n",
            "Requirement already satisfied: filelock in /usr/local/lib/python3.8/dist-packages (from transformers) (3.9.0)\n",
            "Collecting huggingface-hub<1.0,>=0.11.0\n",
            "  Downloading huggingface_hub-0.12.1-py3-none-any.whl (190 kB)\n",
            "\u001b[2K     \u001b[90m━━━━━━━━━━━━━━━━━━━━━━━━━━━━━━━━━━━━━━━\u001b[0m \u001b[32m190.3/190.3 KB\u001b[0m \u001b[31m6.5 MB/s\u001b[0m eta \u001b[36m0:00:00\u001b[0m\n",
            "\u001b[?25hRequirement already satisfied: packaging>=20.0 in /usr/local/lib/python3.8/dist-packages (from transformers) (23.0)\n",
            "Requirement already satisfied: tqdm>=4.27 in /usr/local/lib/python3.8/dist-packages (from transformers) (4.64.1)\n",
            "Requirement already satisfied: regex!=2019.12.17 in /usr/local/lib/python3.8/dist-packages (from transformers) (2022.6.2)\n",
            "Collecting tokenizers!=0.11.3,<0.14,>=0.11.1\n",
            "  Downloading tokenizers-0.13.2-cp38-cp38-manylinux_2_17_x86_64.manylinux2014_x86_64.whl (7.6 MB)\n",
            "\u001b[2K     \u001b[90m━━━━━━━━━━━━━━━━━━━━━━━━━━━━━━━━━━━━━━━━\u001b[0m \u001b[32m7.6/7.6 MB\u001b[0m \u001b[31m105.3 MB/s\u001b[0m eta \u001b[36m0:00:00\u001b[0m\n",
            "\u001b[?25hRequirement already satisfied: typing-extensions>=3.7.4.3 in /usr/local/lib/python3.8/dist-packages (from huggingface-hub<1.0,>=0.11.0->transformers) (4.4.0)\n",
            "Requirement already satisfied: certifi>=2017.4.17 in /usr/local/lib/python3.8/dist-packages (from requests->transformers) (2022.12.7)\n",
            "Requirement already satisfied: idna<3,>=2.5 in /usr/local/lib/python3.8/dist-packages (from requests->transformers) (2.10)\n",
            "Requirement already satisfied: chardet<5,>=3.0.2 in /usr/local/lib/python3.8/dist-packages (from requests->transformers) (4.0.0)\n",
            "Requirement already satisfied: urllib3<1.27,>=1.21.1 in /usr/local/lib/python3.8/dist-packages (from requests->transformers) (1.24.3)\n",
            "Installing collected packages: tokenizers, huggingface-hub, transformers\n",
            "Successfully installed huggingface-hub-0.12.1 tokenizers-0.13.2 transformers-4.26.1\n"
          ]
        }
      ],
      "source": [
        "import collections\n",
        "import json\n",
        "import pandas as pd\n",
        "import re\n",
        "import string\n",
        "import timeit\n",
        "from ast import literal_eval\n",
        "!pip install transformers\n",
        "from transformers import AutoModelForQuestionAnswering, AutoTokenizer, pipeline\n",
        "import time\n",
        "import torch.nn.utils.prune as prune\n",
        "import numpy as np\n",
        "import os"
      ]
    },
    {
      "cell_type": "code",
      "source": [
        "device = 0 if torch.cuda.is_available() else -1"
      ],
      "metadata": {
        "id": "TQdSpnArf6P6"
      },
      "execution_count": 35,
      "outputs": []
    },
    {
      "cell_type": "markdown",
      "metadata": {
        "id": "TWK5NMysT9lw"
      },
      "source": [
        "# Model"
      ]
    },
    {
      "cell_type": "markdown",
      "metadata": {
        "id": "3qKTZPbcs4Jc"
      },
      "source": [
        "## Loading Base"
      ]
    },
    {
      "cell_type": "code",
      "execution_count": 99,
      "metadata": {
        "id": "FKUjQqrL61Y_"
      },
      "outputs": [],
      "source": [
        "# Load Checkpoints from Huggingface\n",
        "model = AutoModelForQuestionAnswering.from_pretrained(model_name)\n",
        "tokenizer = AutoTokenizer.from_pretrained(model_name)"
      ]
    },
    {
      "cell_type": "code",
      "execution_count": 100,
      "metadata": {
        "id": "X_hiJdTbGcDZ"
      },
      "outputs": [],
      "source": [
        "# Make Pipeline\n",
        "nlp = pipeline(\"question-answering\", model = model, tokenizer= tokenizer,device=device)"
      ]
    },
    {
      "cell_type": "code",
      "execution_count": 101,
      "metadata": {
        "id": "bvTACH8JUV-_"
      },
      "outputs": [],
      "source": [
        "# Get the Layers of the Transformer Model\n",
        "modules = [module for module in nlp.model.modules()]"
      ]
    },
    {
      "cell_type": "code",
      "execution_count": 102,
      "metadata": {
        "id": "k7zBo8wPUWzH"
      },
      "outputs": [],
      "source": [
        "# Function to get the model layer by layer\n",
        "mods = []\n",
        "def get_modules(mod,parent):\n",
        "    mod_list = list(mod._modules.keys())\n",
        "    if(len(mod_list)>0):    \n",
        "        for mod_n in mod_list:\n",
        "#             print(mod_n)\n",
        "            if(mod_n in ['qa_outputs']):\n",
        "                continue\n",
        "            get_modules(mod._modules[mod_n],mod)\n",
        "    else:\n",
        "        mods.append((str(type(mod)).split('.')[-1][:-2],mod))\n",
        "        return"
      ]
    },
    {
      "cell_type": "code",
      "execution_count": 103,
      "metadata": {
        "id": "_KefqG5GUbfP"
      },
      "outputs": [],
      "source": [
        "get_modules(modules[0],None)"
      ]
    },
    {
      "cell_type": "code",
      "execution_count": 104,
      "metadata": {
        "id": "m17sdl21UeHC"
      },
      "outputs": [],
      "source": [
        "# Remove Layers that cannot be pruned(Don't have weights)\n",
        "final = [(name,layer) for name,layer in mods if name not in ['Dropout','GELUActivation','LayerNorm','Softmax','Tanh','MatMulWrapper', 'SqueezeBertLayerNorm']]"
      ]
    },
    {
      "cell_type": "code",
      "execution_count": 105,
      "metadata": {
        "colab": {
          "base_uri": "https://localhost:8080/"
        },
        "id": "WGBDXoytUgdi",
        "outputId": "0a106ce6-80ca-4afa-805a-d380856659fb"
      },
      "outputs": [
        {
          "output_type": "execute_result",
          "data": {
            "text/plain": [
              "['Linear', 'Embedding']"
            ]
          },
          "metadata": {},
          "execution_count": 105
        }
      ],
      "source": [
        "unc = ['Linear']\n",
        "for name,layer in final:\n",
        "    if name not in unc:\n",
        "        unc.append(name)\n",
        "unc"
      ]
    },
    {
      "cell_type": "markdown",
      "metadata": {
        "id": "tMLDWRDwp9iN"
      },
      "source": [
        "## Pruning ([Article](https://towardsdatascience.com/how-to-prune-neural-networks-with-pytorch-ebef60316b91))"
      ]
    },
    {
      "cell_type": "code",
      "execution_count": 86,
      "metadata": {
        "id": "DpVNjN2rUlRq"
      },
      "outputs": [],
      "source": [
        "# Global Unstructured Pruning(Proper)\n",
        "parameters_to_prune = [\n",
        "    (module, \"weight\") for name,module in final\n",
        "]\n",
        "prune.global_unstructured(\n",
        "    parameters_to_prune,\n",
        "    pruning_method=prune.L1Unstructured, #L1 is the L1 Norm and Unstructured Pruning method(Global)\n",
        "    amount=0.3, # Percentage Amount of weights to be pruned,works best in range of 0.2 to 0.3\n",
        ")\n",
        "# Pruning generates a mask of pruned layers which takes up space in memory and takes more inference time\n",
        "# Here we remove the pruned mask and writes the pruned weights as the actual weights,now we can not revert back to the previous state\n",
        "for j in range(len(final)):\n",
        "    if prune.is_pruned(final[j][1]):\n",
        "        prune.remove(final[j][1],'weight')"
      ]
    },
    {
      "cell_type": "code",
      "execution_count": 87,
      "metadata": {
        "id": "5iBALCrjUoNm"
      },
      "outputs": [],
      "source": [
        "# Local Structured Pruning\n",
        "# for i in range(len(final)):\n",
        "#     prune.ln_structured(final[i][1], name=\"weight\", amount=1, n=2, dim=1)\n",
        "#     if prune.is_pruned(final[i][1]):\n",
        "#         print(i)\n",
        "#         prune.remove(final[i][1],'weight')"
      ]
    },
    {
      "cell_type": "code",
      "execution_count": 88,
      "metadata": {
        "id": "FFb8JUoEUrDx"
      },
      "outputs": [],
      "source": [
        "# Local Unstructured Pruning\n",
        "# for i in range(len(final)):\n",
        "#     prune.l1_unstructured(final[i][1], name=\"weight\", amount=0.1)\n",
        "#     if prune.is_pruned(final[i][1]):\n",
        "#         print(i)\n",
        "#         prune.remove(final[i][1],'weight')"
      ]
    },
    {
      "cell_type": "code",
      "execution_count": 89,
      "metadata": {
        "id": "q6j8FjknUtJB"
      },
      "outputs": [],
      "source": [
        "# Local Random Unstructured Pruning\n",
        "# for i in range(len(final)):\n",
        "#     prune.random_unstructured(final[i][1], name=\"weight\", amount=0.2)\n",
        "#     if prune.is_pruned(final[i][1]):\n",
        "#         print(i)\n",
        "#         prune.remove(final[i][1],'weight')"
      ]
    },
    {
      "cell_type": "code",
      "source": [
        "import torch"
      ],
      "metadata": {
        "id": "C6JJDZqoeOC5"
      },
      "execution_count": 90,
      "outputs": []
    },
    {
      "cell_type": "code",
      "source": [
        "torch.save(model,'/content/pruned.pt')"
      ],
      "metadata": {
        "id": "zy9aVhmYd_Bj"
      },
      "execution_count": 91,
      "outputs": []
    },
    {
      "cell_type": "markdown",
      "metadata": {
        "id": "qHUQ9YewpyQI"
      },
      "source": [
        "## Quantization ([Article](https://pytorch.org/blog/quantization-in-practice/#post-training-static-quantization-ptq))"
      ]
    },
    {
      "cell_type": "code",
      "execution_count": 62,
      "metadata": {
        "id": "XU_0tGh1p7Ep"
      },
      "outputs": [],
      "source": [
        "## EAGER MODE\n",
        "from torch import nn\n",
        "from torch.quantization import quantize_dynamic\n",
        "import torch\n",
        "# Adds stubs to dynamically quantizes the model\n",
        "model = AutoModelForQuestionAnswering.from_pretrained(model_name)\n",
        "model_q = quantize_dynamic(\n",
        "    model=model, qconfig_spec={nn.Linear}, dtype=torch.qint8, inplace=False\n",
        ")"
      ]
    },
    {
      "cell_type": "code",
      "execution_count": 63,
      "metadata": {
        "id": "ko-YoiXw8ex8"
      },
      "outputs": [],
      "source": [
        "nlp = pipeline(\"question-answering\", model = model_q, tokenizer= model_name)"
      ]
    },
    {
      "cell_type": "code",
      "source": [
        "torch.save(model_q,'/content/quantized.pt')"
      ],
      "metadata": {
        "id": "RSqwjqB-sepk"
      },
      "execution_count": 64,
      "outputs": []
    },
    {
      "cell_type": "markdown",
      "metadata": {
        "id": "NJzvnrzLTIl0"
      },
      "source": [
        "# Dynamic Quantization"
      ]
    },
    {
      "cell_type": "code",
      "execution_count": 72,
      "metadata": {
        "colab": {
          "base_uri": "https://localhost:8080/",
          "height": 0
        },
        "id": "VogRFdmoTPNg",
        "outputId": "3b649570-d6e0-4a05-c568-2f3e7ec087eb"
      },
      "outputs": [
        {
          "output_type": "stream",
          "name": "stdout",
          "text": [
            "Looking in indexes: https://pypi.org/simple, https://us-python.pkg.dev/colab-wheels/public/simple/\n",
            "Collecting git+https://github.com/huggingface/optimum-intel.git\n",
            "  Cloning https://github.com/huggingface/optimum-intel.git to /tmp/pip-req-build-wkooc_h2\n",
            "  Running command git clone --filter=blob:none --quiet https://github.com/huggingface/optimum-intel.git /tmp/pip-req-build-wkooc_h2\n",
            "  Resolved https://github.com/huggingface/optimum-intel.git to commit e761f21d30ba45bd49362efd276d354d9cfd8601\n",
            "  Installing build dependencies ... \u001b[?25l\u001b[?25hdone\n",
            "  Getting requirements to build wheel ... \u001b[?25l\u001b[?25hdone\n",
            "  Preparing metadata (pyproject.toml) ... \u001b[?25l\u001b[?25hdone\n",
            "Requirement already satisfied: torch in /usr/local/lib/python3.8/dist-packages (from optimum-intel==1.7.0.dev0) (1.13.1+cu116)\n",
            "Requirement already satisfied: transformers>=4.20.0 in /usr/local/lib/python3.8/dist-packages (from optimum-intel==1.7.0.dev0) (4.26.1)\n",
            "Collecting datasets>=1.4.0\n",
            "  Downloading datasets-2.9.0-py3-none-any.whl (462 kB)\n",
            "\u001b[2K     \u001b[90m━━━━━━━━━━━━━━━━━━━━━━━━━━━━━━━━━━━━━━\u001b[0m \u001b[32m462.8/462.8 KB\u001b[0m \u001b[31m26.6 MB/s\u001b[0m eta \u001b[36m0:00:00\u001b[0m\n",
            "\u001b[?25hRequirement already satisfied: scipy in /usr/local/lib/python3.8/dist-packages (from optimum-intel==1.7.0.dev0) (1.7.3)\n",
            "Collecting sentencepiece\n",
            "  Downloading sentencepiece-0.1.97-cp38-cp38-manylinux_2_17_x86_64.manylinux2014_x86_64.whl (1.3 MB)\n",
            "\u001b[2K     \u001b[90m━━━━━━━━━━━━━━━━━━━━━━━━━━━━━━━━━━━━━━━━\u001b[0m \u001b[32m1.3/1.3 MB\u001b[0m \u001b[31m78.7 MB/s\u001b[0m eta \u001b[36m0:00:00\u001b[0m\n",
            "\u001b[?25hCollecting optimum>=1.6.1\n",
            "  Downloading optimum-1.6.4-py3-none-any.whl (227 kB)\n",
            "\u001b[2K     \u001b[90m━━━━━━━━━━━━━━━━━━━━━━━━━━━━━━━━━━━━━━\u001b[0m \u001b[32m227.8/227.8 KB\u001b[0m \u001b[31m26.1 MB/s\u001b[0m eta \u001b[36m0:00:00\u001b[0m\n",
            "\u001b[?25hRequirement already satisfied: aiohttp in /usr/local/lib/python3.8/dist-packages (from datasets>=1.4.0->optimum-intel==1.7.0.dev0) (3.8.3)\n",
            "Requirement already satisfied: dill<0.3.7 in /usr/local/lib/python3.8/dist-packages (from datasets>=1.4.0->optimum-intel==1.7.0.dev0) (0.3.6)\n",
            "Requirement already satisfied: huggingface-hub<1.0.0,>=0.2.0 in /usr/local/lib/python3.8/dist-packages (from datasets>=1.4.0->optimum-intel==1.7.0.dev0) (0.12.1)\n",
            "Requirement already satisfied: fsspec[http]>=2021.11.1 in /usr/local/lib/python3.8/dist-packages (from datasets>=1.4.0->optimum-intel==1.7.0.dev0) (2023.1.0)\n",
            "Requirement already satisfied: packaging in /usr/local/lib/python3.8/dist-packages (from datasets>=1.4.0->optimum-intel==1.7.0.dev0) (23.0)\n",
            "Requirement already satisfied: pyarrow>=6.0.0 in /usr/local/lib/python3.8/dist-packages (from datasets>=1.4.0->optimum-intel==1.7.0.dev0) (9.0.0)\n",
            "Collecting multiprocess\n",
            "  Downloading multiprocess-0.70.14-py38-none-any.whl (132 kB)\n",
            "\u001b[2K     \u001b[90m━━━━━━━━━━━━━━━━━━━━━━━━━━━━━━━━━━━━━━\u001b[0m \u001b[32m132.0/132.0 KB\u001b[0m \u001b[31m18.2 MB/s\u001b[0m eta \u001b[36m0:00:00\u001b[0m\n",
            "\u001b[?25hRequirement already satisfied: pyyaml>=5.1 in /usr/local/lib/python3.8/dist-packages (from datasets>=1.4.0->optimum-intel==1.7.0.dev0) (6.0)\n",
            "Requirement already satisfied: tqdm>=4.62.1 in /usr/local/lib/python3.8/dist-packages (from datasets>=1.4.0->optimum-intel==1.7.0.dev0) (4.64.1)\n",
            "Collecting xxhash\n",
            "  Downloading xxhash-3.2.0-cp38-cp38-manylinux_2_17_x86_64.manylinux2014_x86_64.whl (213 kB)\n",
            "\u001b[2K     \u001b[90m━━━━━━━━━━━━━━━━━━━━━━━━━━━━━━━━━━━━━━\u001b[0m \u001b[32m213.0/213.0 KB\u001b[0m \u001b[31m24.8 MB/s\u001b[0m eta \u001b[36m0:00:00\u001b[0m\n",
            "\u001b[?25hRequirement already satisfied: numpy>=1.17 in /usr/local/lib/python3.8/dist-packages (from datasets>=1.4.0->optimum-intel==1.7.0.dev0) (1.21.6)\n",
            "Requirement already satisfied: requests>=2.19.0 in /usr/local/lib/python3.8/dist-packages (from datasets>=1.4.0->optimum-intel==1.7.0.dev0) (2.25.1)\n",
            "Collecting responses<0.19\n",
            "  Downloading responses-0.18.0-py3-none-any.whl (38 kB)\n",
            "Requirement already satisfied: pandas in /usr/local/lib/python3.8/dist-packages (from datasets>=1.4.0->optimum-intel==1.7.0.dev0) (1.3.5)\n",
            "Requirement already satisfied: sympy in /usr/local/lib/python3.8/dist-packages (from optimum>=1.6.1->optimum-intel==1.7.0.dev0) (1.7.1)\n",
            "Collecting coloredlogs\n",
            "  Downloading coloredlogs-15.0.1-py2.py3-none-any.whl (46 kB)\n",
            "\u001b[2K     \u001b[90m━━━━━━━━━━━━━━━━━━━━━━━━━━━━━━━━━━━━━━━━\u001b[0m \u001b[32m46.0/46.0 KB\u001b[0m \u001b[31m5.5 MB/s\u001b[0m eta \u001b[36m0:00:00\u001b[0m\n",
            "\u001b[?25hRequirement already satisfied: typing-extensions in /usr/local/lib/python3.8/dist-packages (from torch->optimum-intel==1.7.0.dev0) (4.4.0)\n",
            "Requirement already satisfied: filelock in /usr/local/lib/python3.8/dist-packages (from transformers>=4.20.0->optimum-intel==1.7.0.dev0) (3.9.0)\n",
            "Requirement already satisfied: tokenizers!=0.11.3,<0.14,>=0.11.1 in /usr/local/lib/python3.8/dist-packages (from transformers>=4.20.0->optimum-intel==1.7.0.dev0) (0.13.2)\n",
            "Requirement already satisfied: regex!=2019.12.17 in /usr/local/lib/python3.8/dist-packages (from transformers>=4.20.0->optimum-intel==1.7.0.dev0) (2022.6.2)\n",
            "Requirement already satisfied: aiosignal>=1.1.2 in /usr/local/lib/python3.8/dist-packages (from aiohttp->datasets>=1.4.0->optimum-intel==1.7.0.dev0) (1.3.1)\n",
            "Requirement already satisfied: charset-normalizer<3.0,>=2.0 in /usr/local/lib/python3.8/dist-packages (from aiohttp->datasets>=1.4.0->optimum-intel==1.7.0.dev0) (2.1.1)\n",
            "Requirement already satisfied: attrs>=17.3.0 in /usr/local/lib/python3.8/dist-packages (from aiohttp->datasets>=1.4.0->optimum-intel==1.7.0.dev0) (22.2.0)\n",
            "Requirement already satisfied: yarl<2.0,>=1.0 in /usr/local/lib/python3.8/dist-packages (from aiohttp->datasets>=1.4.0->optimum-intel==1.7.0.dev0) (1.8.2)\n",
            "Requirement already satisfied: async-timeout<5.0,>=4.0.0a3 in /usr/local/lib/python3.8/dist-packages (from aiohttp->datasets>=1.4.0->optimum-intel==1.7.0.dev0) (4.0.2)\n",
            "Requirement already satisfied: frozenlist>=1.1.1 in /usr/local/lib/python3.8/dist-packages (from aiohttp->datasets>=1.4.0->optimum-intel==1.7.0.dev0) (1.3.3)\n",
            "Requirement already satisfied: multidict<7.0,>=4.5 in /usr/local/lib/python3.8/dist-packages (from aiohttp->datasets>=1.4.0->optimum-intel==1.7.0.dev0) (6.0.4)\n",
            "Requirement already satisfied: certifi>=2017.4.17 in /usr/local/lib/python3.8/dist-packages (from requests>=2.19.0->datasets>=1.4.0->optimum-intel==1.7.0.dev0) (2022.12.7)\n",
            "Requirement already satisfied: idna<3,>=2.5 in /usr/local/lib/python3.8/dist-packages (from requests>=2.19.0->datasets>=1.4.0->optimum-intel==1.7.0.dev0) (2.10)\n",
            "Requirement already satisfied: chardet<5,>=3.0.2 in /usr/local/lib/python3.8/dist-packages (from requests>=2.19.0->datasets>=1.4.0->optimum-intel==1.7.0.dev0) (4.0.0)\n",
            "Requirement already satisfied: urllib3<1.27,>=1.21.1 in /usr/local/lib/python3.8/dist-packages (from requests>=2.19.0->datasets>=1.4.0->optimum-intel==1.7.0.dev0) (1.24.3)\n",
            "Collecting urllib3<1.27,>=1.21.1\n",
            "  Downloading urllib3-1.26.14-py2.py3-none-any.whl (140 kB)\n",
            "\u001b[2K     \u001b[90m━━━━━━━━━━━━━━━━━━━━━━━━━━━━━━━━━━━━━━\u001b[0m \u001b[32m140.6/140.6 KB\u001b[0m \u001b[31m20.2 MB/s\u001b[0m eta \u001b[36m0:00:00\u001b[0m\n",
            "\u001b[?25hRequirement already satisfied: protobuf<=3.20.2 in /usr/local/lib/python3.8/dist-packages (from transformers>=4.20.0->optimum-intel==1.7.0.dev0) (3.19.6)\n",
            "Collecting humanfriendly>=9.1\n",
            "  Downloading humanfriendly-10.0-py2.py3-none-any.whl (86 kB)\n",
            "\u001b[2K     \u001b[90m━━━━━━━━━━━━━━━━━━━━━━━━━━━━━━━━━━━━━━━━\u001b[0m \u001b[32m86.8/86.8 KB\u001b[0m \u001b[31m12.7 MB/s\u001b[0m eta \u001b[36m0:00:00\u001b[0m\n",
            "\u001b[?25hRequirement already satisfied: pytz>=2017.3 in /usr/local/lib/python3.8/dist-packages (from pandas->datasets>=1.4.0->optimum-intel==1.7.0.dev0) (2022.7.1)\n",
            "Requirement already satisfied: python-dateutil>=2.7.3 in /usr/local/lib/python3.8/dist-packages (from pandas->datasets>=1.4.0->optimum-intel==1.7.0.dev0) (2.8.2)\n",
            "Requirement already satisfied: mpmath>=0.19 in /usr/local/lib/python3.8/dist-packages (from sympy->optimum>=1.6.1->optimum-intel==1.7.0.dev0) (1.2.1)\n",
            "Requirement already satisfied: six>=1.5 in /usr/local/lib/python3.8/dist-packages (from python-dateutil>=2.7.3->pandas->datasets>=1.4.0->optimum-intel==1.7.0.dev0) (1.15.0)\n",
            "Building wheels for collected packages: optimum-intel\n",
            "  Building wheel for optimum-intel (pyproject.toml) ... \u001b[?25l\u001b[?25hdone\n",
            "  Created wheel for optimum-intel: filename=optimum_intel-1.7.0.dev0-py3-none-any.whl size=73338 sha256=f762e2dca7edc0092382ec93f3245a960ea5ec4af381c9ecdc90ac5271a29be2\n",
            "  Stored in directory: /tmp/pip-ephem-wheel-cache-icrgrelu/wheels/49/ea/01/c792c07233a13d89e807347acee555da7bccd7d111b76681dc\n",
            "Successfully built optimum-intel\n",
            "Installing collected packages: sentencepiece, xxhash, urllib3, multiprocess, humanfriendly, coloredlogs, responses, datasets, optimum, optimum-intel\n",
            "  Attempting uninstall: urllib3\n",
            "    Found existing installation: urllib3 1.24.3\n",
            "    Uninstalling urllib3-1.24.3:\n",
            "      Successfully uninstalled urllib3-1.24.3\n",
            "Successfully installed coloredlogs-15.0.1 datasets-2.9.0 humanfriendly-10.0 multiprocess-0.70.14 optimum-1.6.4 optimum-intel-1.7.0.dev0 responses-0.18.0 sentencepiece-0.1.97 urllib3-1.26.14 xxhash-3.2.0\n"
          ]
        },
        {
          "output_type": "display_data",
          "data": {
            "application/vnd.colab-display-data+json": {
              "pip_warning": {
                "packages": [
                  "urllib3"
                ]
              }
            }
          },
          "metadata": {}
        }
      ],
      "source": [
        "pip install git+https://github.com/huggingface/optimum-intel.git"
      ]
    },
    {
      "cell_type": "code",
      "execution_count": 73,
      "metadata": {
        "colab": {
          "base_uri": "https://localhost:8080/"
        },
        "id": "ulW6nVo7VwYy",
        "outputId": "caa63c95-2c65-4dd5-dd23-2cfb5167d66d"
      },
      "outputs": [
        {
          "output_type": "stream",
          "name": "stdout",
          "text": [
            "Looking in indexes: https://pypi.org/simple, https://us-python.pkg.dev/colab-wheels/public/simple/\n",
            "Requirement already satisfied: optimum[neural-compressor] in /usr/local/lib/python3.8/dist-packages (1.6.4)\n",
            "Requirement already satisfied: huggingface-hub>=0.8.0 in /usr/local/lib/python3.8/dist-packages (from optimum[neural-compressor]) (0.12.1)\n",
            "Requirement already satisfied: coloredlogs in /usr/local/lib/python3.8/dist-packages (from optimum[neural-compressor]) (15.0.1)\n",
            "Requirement already satisfied: transformers[sentencepiece]>=4.26.0 in /usr/local/lib/python3.8/dist-packages (from optimum[neural-compressor]) (4.26.1)\n",
            "Requirement already satisfied: sympy in /usr/local/lib/python3.8/dist-packages (from optimum[neural-compressor]) (1.7.1)\n",
            "Requirement already satisfied: torch>=1.9 in /usr/local/lib/python3.8/dist-packages (from optimum[neural-compressor]) (1.13.1+cu116)\n",
            "Requirement already satisfied: numpy<1.24.0 in /usr/local/lib/python3.8/dist-packages (from optimum[neural-compressor]) (1.21.6)\n",
            "Requirement already satisfied: packaging in /usr/local/lib/python3.8/dist-packages (from optimum[neural-compressor]) (23.0)\n",
            "Requirement already satisfied: optimum-intel[neural-compressor] in /usr/local/lib/python3.8/dist-packages (from optimum[neural-compressor]) (1.7.0.dev0)\n",
            "Requirement already satisfied: requests in /usr/local/lib/python3.8/dist-packages (from huggingface-hub>=0.8.0->optimum[neural-compressor]) (2.25.1)\n",
            "Requirement already satisfied: tqdm>=4.42.1 in /usr/local/lib/python3.8/dist-packages (from huggingface-hub>=0.8.0->optimum[neural-compressor]) (4.64.1)\n",
            "Requirement already satisfied: pyyaml>=5.1 in /usr/local/lib/python3.8/dist-packages (from huggingface-hub>=0.8.0->optimum[neural-compressor]) (6.0)\n",
            "Requirement already satisfied: filelock in /usr/local/lib/python3.8/dist-packages (from huggingface-hub>=0.8.0->optimum[neural-compressor]) (3.9.0)\n",
            "Requirement already satisfied: typing-extensions>=3.7.4.3 in /usr/local/lib/python3.8/dist-packages (from huggingface-hub>=0.8.0->optimum[neural-compressor]) (4.4.0)\n",
            "Requirement already satisfied: tokenizers!=0.11.3,<0.14,>=0.11.1 in /usr/local/lib/python3.8/dist-packages (from transformers[sentencepiece]>=4.26.0->optimum[neural-compressor]) (0.13.2)\n",
            "Requirement already satisfied: regex!=2019.12.17 in /usr/local/lib/python3.8/dist-packages (from transformers[sentencepiece]>=4.26.0->optimum[neural-compressor]) (2022.6.2)\n",
            "Requirement already satisfied: sentencepiece!=0.1.92,>=0.1.91 in /usr/local/lib/python3.8/dist-packages (from transformers[sentencepiece]>=4.26.0->optimum[neural-compressor]) (0.1.97)\n",
            "Requirement already satisfied: protobuf<=3.20.2 in /usr/local/lib/python3.8/dist-packages (from transformers[sentencepiece]>=4.26.0->optimum[neural-compressor]) (3.19.6)\n",
            "Requirement already satisfied: humanfriendly>=9.1 in /usr/local/lib/python3.8/dist-packages (from coloredlogs->optimum[neural-compressor]) (10.0)\n",
            "Requirement already satisfied: scipy in /usr/local/lib/python3.8/dist-packages (from optimum-intel[neural-compressor]->optimum[neural-compressor]) (1.7.3)\n",
            "Requirement already satisfied: datasets>=1.4.0 in /usr/local/lib/python3.8/dist-packages (from optimum-intel[neural-compressor]->optimum[neural-compressor]) (2.9.0)\n",
            "Collecting neural-compressor>=2.0.0\n",
            "  Downloading neural_compressor-2.0-py3-none-any.whl (1.1 MB)\n",
            "\u001b[2K     \u001b[90m━━━━━━━━━━━━━━━━━━━━━━━━━━━━━━━━━━━━━━━━\u001b[0m \u001b[32m1.1/1.1 MB\u001b[0m \u001b[31m23.2 MB/s\u001b[0m eta \u001b[36m0:00:00\u001b[0m\n",
            "\u001b[?25hCollecting onnxruntime\n",
            "  Downloading onnxruntime-1.14.0-cp38-cp38-manylinux_2_27_x86_64.whl (5.0 MB)\n",
            "\u001b[2K     \u001b[90m━━━━━━━━━━━━━━━━━━━━━━━━━━━━━━━━━━━━━━━━\u001b[0m \u001b[32m5.0/5.0 MB\u001b[0m \u001b[31m94.3 MB/s\u001b[0m eta \u001b[36m0:00:00\u001b[0m\n",
            "\u001b[?25hCollecting onnx\n",
            "  Downloading onnx-1.13.0-cp38-cp38-manylinux_2_17_x86_64.manylinux2014_x86_64.whl (13.5 MB)\n",
            "\u001b[2K     \u001b[90m━━━━━━━━━━━━━━━━━━━━━━━━━━━━━━━━━━━━━━━━\u001b[0m \u001b[32m13.5/13.5 MB\u001b[0m \u001b[31m92.1 MB/s\u001b[0m eta \u001b[36m0:00:00\u001b[0m\n",
            "\u001b[?25hRequirement already satisfied: mpmath>=0.19 in /usr/local/lib/python3.8/dist-packages (from sympy->optimum[neural-compressor]) (1.2.1)\n",
            "Requirement already satisfied: dill<0.3.7 in /usr/local/lib/python3.8/dist-packages (from datasets>=1.4.0->optimum-intel[neural-compressor]->optimum[neural-compressor]) (0.3.6)\n",
            "Requirement already satisfied: pandas in /usr/local/lib/python3.8/dist-packages (from datasets>=1.4.0->optimum-intel[neural-compressor]->optimum[neural-compressor]) (1.3.5)\n",
            "Requirement already satisfied: pyarrow>=6.0.0 in /usr/local/lib/python3.8/dist-packages (from datasets>=1.4.0->optimum-intel[neural-compressor]->optimum[neural-compressor]) (9.0.0)\n",
            "Requirement already satisfied: multiprocess in /usr/local/lib/python3.8/dist-packages (from datasets>=1.4.0->optimum-intel[neural-compressor]->optimum[neural-compressor]) (0.70.14)\n",
            "Requirement already satisfied: aiohttp in /usr/local/lib/python3.8/dist-packages (from datasets>=1.4.0->optimum-intel[neural-compressor]->optimum[neural-compressor]) (3.8.3)\n",
            "Requirement already satisfied: fsspec[http]>=2021.11.1 in /usr/local/lib/python3.8/dist-packages (from datasets>=1.4.0->optimum-intel[neural-compressor]->optimum[neural-compressor]) (2023.1.0)\n",
            "Requirement already satisfied: xxhash in /usr/local/lib/python3.8/dist-packages (from datasets>=1.4.0->optimum-intel[neural-compressor]->optimum[neural-compressor]) (3.2.0)\n",
            "Requirement already satisfied: responses<0.19 in /usr/local/lib/python3.8/dist-packages (from datasets>=1.4.0->optimum-intel[neural-compressor]->optimum[neural-compressor]) (0.18.0)\n",
            "Requirement already satisfied: scikit-learn in /usr/local/lib/python3.8/dist-packages (from neural-compressor>=2.0.0->optimum-intel[neural-compressor]->optimum[neural-compressor]) (1.0.2)\n",
            "Requirement already satisfied: opencv-python in /usr/local/lib/python3.8/dist-packages (from neural-compressor>=2.0.0->optimum-intel[neural-compressor]->optimum[neural-compressor]) (4.6.0.66)\n",
            "Collecting deprecated\n",
            "  Downloading Deprecated-1.2.13-py2.py3-none-any.whl (9.6 kB)\n",
            "Requirement already satisfied: Pillow in /usr/local/lib/python3.8/dist-packages (from neural-compressor>=2.0.0->optimum-intel[neural-compressor]->optimum[neural-compressor]) (7.1.2)\n",
            "Collecting schema\n",
            "  Downloading schema-0.7.5-py2.py3-none-any.whl (17 kB)\n",
            "Requirement already satisfied: prettytable in /usr/local/lib/python3.8/dist-packages (from neural-compressor>=2.0.0->optimum-intel[neural-compressor]->optimum[neural-compressor]) (3.6.0)\n",
            "Requirement already satisfied: psutil in /usr/local/lib/python3.8/dist-packages (from neural-compressor>=2.0.0->optimum-intel[neural-compressor]->optimum[neural-compressor]) (5.4.8)\n",
            "Requirement already satisfied: pycocotools in /usr/local/lib/python3.8/dist-packages (from neural-compressor>=2.0.0->optimum-intel[neural-compressor]->optimum[neural-compressor]) (2.0.6)\n",
            "Collecting py-cpuinfo\n",
            "  Downloading py_cpuinfo-9.0.0-py3-none-any.whl (22 kB)\n",
            "Requirement already satisfied: idna<3,>=2.5 in /usr/local/lib/python3.8/dist-packages (from requests->huggingface-hub>=0.8.0->optimum[neural-compressor]) (2.10)\n",
            "Requirement already satisfied: certifi>=2017.4.17 in /usr/local/lib/python3.8/dist-packages (from requests->huggingface-hub>=0.8.0->optimum[neural-compressor]) (2022.12.7)\n",
            "Requirement already satisfied: urllib3<1.27,>=1.21.1 in /usr/local/lib/python3.8/dist-packages (from requests->huggingface-hub>=0.8.0->optimum[neural-compressor]) (1.26.14)\n",
            "Requirement already satisfied: chardet<5,>=3.0.2 in /usr/local/lib/python3.8/dist-packages (from requests->huggingface-hub>=0.8.0->optimum[neural-compressor]) (4.0.0)\n",
            "Collecting protobuf<=3.20.2\n",
            "  Downloading protobuf-3.20.2-cp38-cp38-manylinux_2_5_x86_64.manylinux1_x86_64.whl (1.0 MB)\n",
            "\u001b[2K     \u001b[90m━━━━━━━━━━━━━━━━━━━━━━━━━━━━━━━━━━━━━━━━\u001b[0m \u001b[32m1.0/1.0 MB\u001b[0m \u001b[31m55.5 MB/s\u001b[0m eta \u001b[36m0:00:00\u001b[0m\n",
            "\u001b[?25hRequirement already satisfied: flatbuffers in /usr/local/lib/python3.8/dist-packages (from onnxruntime->optimum-intel[neural-compressor]->optimum[neural-compressor]) (23.1.21)\n",
            "Requirement already satisfied: frozenlist>=1.1.1 in /usr/local/lib/python3.8/dist-packages (from aiohttp->datasets>=1.4.0->optimum-intel[neural-compressor]->optimum[neural-compressor]) (1.3.3)\n",
            "Requirement already satisfied: aiosignal>=1.1.2 in /usr/local/lib/python3.8/dist-packages (from aiohttp->datasets>=1.4.0->optimum-intel[neural-compressor]->optimum[neural-compressor]) (1.3.1)\n",
            "Requirement already satisfied: charset-normalizer<3.0,>=2.0 in /usr/local/lib/python3.8/dist-packages (from aiohttp->datasets>=1.4.0->optimum-intel[neural-compressor]->optimum[neural-compressor]) (2.1.1)\n",
            "Requirement already satisfied: async-timeout<5.0,>=4.0.0a3 in /usr/local/lib/python3.8/dist-packages (from aiohttp->datasets>=1.4.0->optimum-intel[neural-compressor]->optimum[neural-compressor]) (4.0.2)\n",
            "Requirement already satisfied: attrs>=17.3.0 in /usr/local/lib/python3.8/dist-packages (from aiohttp->datasets>=1.4.0->optimum-intel[neural-compressor]->optimum[neural-compressor]) (22.2.0)\n",
            "Requirement already satisfied: multidict<7.0,>=4.5 in /usr/local/lib/python3.8/dist-packages (from aiohttp->datasets>=1.4.0->optimum-intel[neural-compressor]->optimum[neural-compressor]) (6.0.4)\n",
            "Requirement already satisfied: yarl<2.0,>=1.0 in /usr/local/lib/python3.8/dist-packages (from aiohttp->datasets>=1.4.0->optimum-intel[neural-compressor]->optimum[neural-compressor]) (1.8.2)\n",
            "Requirement already satisfied: wrapt<2,>=1.10 in /usr/local/lib/python3.8/dist-packages (from deprecated->neural-compressor>=2.0.0->optimum-intel[neural-compressor]->optimum[neural-compressor]) (1.14.1)\n",
            "Requirement already satisfied: pytz>=2017.3 in /usr/local/lib/python3.8/dist-packages (from pandas->datasets>=1.4.0->optimum-intel[neural-compressor]->optimum[neural-compressor]) (2022.7.1)\n",
            "Requirement already satisfied: python-dateutil>=2.7.3 in /usr/local/lib/python3.8/dist-packages (from pandas->datasets>=1.4.0->optimum-intel[neural-compressor]->optimum[neural-compressor]) (2.8.2)\n",
            "Requirement already satisfied: wcwidth in /usr/local/lib/python3.8/dist-packages (from prettytable->neural-compressor>=2.0.0->optimum-intel[neural-compressor]->optimum[neural-compressor]) (0.2.6)\n",
            "Requirement already satisfied: matplotlib>=2.1.0 in /usr/local/lib/python3.8/dist-packages (from pycocotools->neural-compressor>=2.0.0->optimum-intel[neural-compressor]->optimum[neural-compressor]) (3.2.2)\n",
            "Requirement already satisfied: contextlib2>=0.5.5 in /usr/local/lib/python3.8/dist-packages (from schema->neural-compressor>=2.0.0->optimum-intel[neural-compressor]->optimum[neural-compressor]) (0.5.5)\n",
            "Requirement already satisfied: threadpoolctl>=2.0.0 in /usr/local/lib/python3.8/dist-packages (from scikit-learn->neural-compressor>=2.0.0->optimum-intel[neural-compressor]->optimum[neural-compressor]) (3.1.0)\n",
            "Requirement already satisfied: joblib>=0.11 in /usr/local/lib/python3.8/dist-packages (from scikit-learn->neural-compressor>=2.0.0->optimum-intel[neural-compressor]->optimum[neural-compressor]) (1.2.0)\n",
            "Requirement already satisfied: cycler>=0.10 in /usr/local/lib/python3.8/dist-packages (from matplotlib>=2.1.0->pycocotools->neural-compressor>=2.0.0->optimum-intel[neural-compressor]->optimum[neural-compressor]) (0.11.0)\n",
            "Requirement already satisfied: kiwisolver>=1.0.1 in /usr/local/lib/python3.8/dist-packages (from matplotlib>=2.1.0->pycocotools->neural-compressor>=2.0.0->optimum-intel[neural-compressor]->optimum[neural-compressor]) (1.4.4)\n",
            "Requirement already satisfied: pyparsing!=2.0.4,!=2.1.2,!=2.1.6,>=2.0.1 in /usr/local/lib/python3.8/dist-packages (from matplotlib>=2.1.0->pycocotools->neural-compressor>=2.0.0->optimum-intel[neural-compressor]->optimum[neural-compressor]) (3.0.9)\n",
            "Requirement already satisfied: six>=1.5 in /usr/local/lib/python3.8/dist-packages (from python-dateutil>=2.7.3->pandas->datasets>=1.4.0->optimum-intel[neural-compressor]->optimum[neural-compressor]) (1.15.0)\n",
            "Installing collected packages: py-cpuinfo, schema, protobuf, deprecated, onnxruntime, onnx, neural-compressor\n",
            "  Attempting uninstall: protobuf\n",
            "    Found existing installation: protobuf 3.19.6\n",
            "    Uninstalling protobuf-3.19.6:\n",
            "      Successfully uninstalled protobuf-3.19.6\n",
            "\u001b[31mERROR: pip's dependency resolver does not currently take into account all the packages that are installed. This behaviour is the source of the following dependency conflicts.\n",
            "tensorflow 2.11.0 requires protobuf<3.20,>=3.9.2, but you have protobuf 3.20.2 which is incompatible.\u001b[0m\u001b[31m\n",
            "\u001b[0mSuccessfully installed deprecated-1.2.13 neural-compressor-2.0 onnx-1.13.0 onnxruntime-1.14.0 protobuf-3.20.2 py-cpuinfo-9.0.0 schema-0.7.5\n"
          ]
        }
      ],
      "source": [
        "!python -m pip install optimum[neural-compressor]"
      ]
    },
    {
      "cell_type": "code",
      "execution_count": 74,
      "metadata": {
        "colab": {
          "base_uri": "https://localhost:8080/"
        },
        "id": "LRqralsaTMoF",
        "outputId": "1d539f3d-30b4-4d7d-8a32-27e630de61ce"
      },
      "outputs": [
        {
          "output_type": "stream",
          "name": "stderr",
          "text": [
            "/usr/local/lib/python3.8/dist-packages/optimum/intel/neural_compressor/quantization.py:642: UserWarning: The class `IncQuantizer` has been depreciated and will be removed in optimum-intel v1.7, please use `INCQuantizer` instead.\n",
            "  warnings.warn(\n",
            "/usr/local/lib/python3.8/dist-packages/optimum/intel/neural_compressor/trainer.py:783: UserWarning: The class `IncTrainer` has been depreciated and will be removed in optimum-intel v1.7, please use `INCTrainer` instead.\n",
            "  warnings.warn(\n",
            "2023-02-17 18:03:45 [WARNING] Force convert framework model to neural_compressor model.\n",
            "2023-02-17 18:03:45 [INFO] Because both eval_dataloader_cfg and user-defined eval_func are None, automatically setting 'tuning.exit_policy.performance_only = True'.\n",
            "2023-02-17 18:03:45 [INFO] Generate a fake evaluation function.\n",
            "2023-02-17 18:03:45 [INFO] Pass query framework capability elapsed time: 568.19 ms\n",
            "2023-02-17 18:03:45 [INFO] Get FP32 model baseline.\n",
            "2023-02-17 18:03:45 [INFO] Save tuning history to /content/nc_workspace/2023-02-17_18-03-42/./history.snapshot.\n",
            "2023-02-17 18:03:45 [INFO] FP32 baseline is: [Accuracy: 1.0000, Duration (seconds): 0.0000]\n",
            "/usr/local/lib/python3.8/dist-packages/torch/ao/quantization/qconfig.py:132: UserWarning: QConfigDynamic is going to be deprecated in PyTorch 1.12, please use QConfig instead\n",
            "  warnings.warn(\"QConfigDynamic is going to be deprecated in PyTorch 1.12, please use QConfig instead\")\n",
            "2023-02-17 18:03:45 [INFO] Fx trace of the entire model failed, We will conduct auto quantization\n",
            "2023-02-17 18:03:49 [INFO] |******Mixed Precision Statistics******|\n",
            "2023-02-17 18:03:49 [INFO] +-----------------+----------+---------+\n",
            "2023-02-17 18:03:49 [INFO] |     Op Type     |  Total   |   INT8  |\n",
            "2023-02-17 18:03:49 [INFO] +-----------------+----------+---------+\n",
            "2023-02-17 18:03:49 [INFO] |    Embedding    |    3     |    3    |\n",
            "2023-02-17 18:03:49 [INFO] |      Linear     |    73    |    73   |\n",
            "2023-02-17 18:03:49 [INFO] +-----------------+----------+---------+\n",
            "2023-02-17 18:03:49 [INFO] Pass quantize model elapsed time: 3689.76 ms\n",
            "2023-02-17 18:03:49 [INFO] Tune 1 result is: [Accuracy (int8|fp32): 1.0000|1.0000, Duration (seconds) (int8|fp32): 0.0000|0.0000], Best tune result is: [Accuracy: 1.0000, Duration (seconds): 0.0000]\n",
            "2023-02-17 18:03:49 [INFO] |**********************Tune Result Statistics**********************|\n",
            "2023-02-17 18:03:49 [INFO] +--------------------+----------+---------------+------------------+\n",
            "2023-02-17 18:03:49 [INFO] |     Info Type      | Baseline | Tune 1 result | Best tune result |\n",
            "2023-02-17 18:03:49 [INFO] +--------------------+----------+---------------+------------------+\n",
            "2023-02-17 18:03:49 [INFO] |      Accuracy      | 1.0000   |    1.0000     |     1.0000       |\n",
            "2023-02-17 18:03:49 [INFO] | Duration (seconds) | 0.0000   |    0.0000     |     0.0000       |\n",
            "2023-02-17 18:03:49 [INFO] +--------------------+----------+---------------+------------------+\n",
            "2023-02-17 18:03:49 [INFO] Save tuning history to /content/nc_workspace/2023-02-17_18-03-42/./history.snapshot.\n",
            "2023-02-17 18:03:49 [INFO] Specified timeout or max trials is reached! Found a quantized model which meet accuracy goal. Exit.\n",
            "2023-02-17 18:03:49 [INFO] Save deploy yaml to /content/nc_workspace/2023-02-17_18-03-42/deploy.yaml\n"
          ]
        }
      ],
      "source": [
        "from transformers import AutoModelForQuestionAnswering\n",
        "from neural_compressor.config import PostTrainingQuantConfig\n",
        "from optimum.intel.neural_compressor import INCQuantizer\n",
        "\n",
        "model = AutoModelForQuestionAnswering.from_pretrained(model_name)\n",
        "# The directory where the quantized model will be saved\n",
        "save_dir = \"quantized_model\"\n",
        "# Load the quantization configuration detailing the quantization we wish to apply\n",
        "quantization_config = PostTrainingQuantConfig(approach=\"dynamic\")\n",
        "quantizer = INCQuantizer.from_pretrained(model)\n",
        "# Apply dynamic quantization and save the resulting model\n",
        "quantizer.quantize(quantization_config=quantization_config, save_directory=save_dir)"
      ]
    },
    {
      "cell_type": "code",
      "source": [
        "from transformers import AutoTokenizer, pipeline\n",
        "tokenizer = AutoTokenizer.from_pretrained(model_name)\n",
        "\n",
        "from optimum.intel.neural_compressor import INCModelForQuestionAnswering\n",
        "\n",
        "# Load the PyTorch model hosted on the hub\n",
        "loaded_model_from_hub = INCModelForQuestionAnswering.from_pretrained(\n",
        "    \"/content/quantized_model\"\n",
        ")\n",
        "\n",
        "nlp = pipeline(\"question-answering\", model = loaded_model_from_hub, tokenizer= tokenizer)"
      ],
      "metadata": {
        "id": "lLiqHPKXhLtF"
      },
      "execution_count": 75,
      "outputs": []
    },
    {
      "cell_type": "markdown",
      "metadata": {
        "id": "5KShpCsqUCHA"
      },
      "source": [
        "# Prediction"
      ]
    },
    {
      "cell_type": "code",
      "execution_count": 106,
      "metadata": {
        "id": "kD_aqYMWhrcR"
      },
      "outputs": [],
      "source": [
        "def pred_theme_ans(questions, pred_out,threshold=0.05):\n",
        "  theme = questions[0][\"Theme\"]\n",
        "  for question in questions:\n",
        "    ans = {}\n",
        "    # Get Question Id\n",
        "    ans[\"question_id\"] = question[\"id\"]\n",
        "    QA_input = {\n",
        "      'question':question['Question'],\n",
        "      'context': question['Paragraph']\n",
        "      }\n",
        "    \n",
        "    # Get Result, Contains, Answer Start, Answer End, Answer and the Confidence Score\n",
        "    res = nlp(QA_input) \n",
        "    score = res['score']\n",
        "    # If Confidence Score is less than the threshold then dont Answer,otherwise answer\n",
        "    if (score<threshold):\n",
        "       ans[\"answers\"]= ''\n",
        "    else:\n",
        "      ans[\"answers\"]=res['answer']\n",
        "    pred_out.append(ans)\n",
        "\n",
        "# Removes Punctuation,Stopwords and Case from a String\n",
        "def normalize_answer(s):\n",
        "  \"\"\"Lower text and remove punctuation, articles and extra whitespace.\"\"\"\n",
        "  def remove_articles(text):\n",
        "    regex = re.compile(r'\\b(a|an|the)\\b', re.UNICODE)\n",
        "    return re.sub(regex, ' ', text)\n",
        "  def white_space_fix(text):\n",
        "    return ' '.join(text.split())\n",
        "  def remove_punc(text):\n",
        "    exclude = set(string.punctuation)\n",
        "    return ''.join(ch for ch in text if ch not in exclude)\n",
        "  def lower(text):\n",
        "    return text.lower()\n",
        "  return white_space_fix(remove_articles(remove_punc(lower(str(s)))))\n",
        "\n",
        "# Get Words from a String\n",
        "def get_tokens(s):\n",
        "  if not s: return []\n",
        "  return normalize_answer(s).split()\n",
        "\n",
        "# Calculate the f1 between two sentences\n",
        "def calc_f1(a_gold, a_pred):\n",
        "  gold_toks = get_tokens(a_gold)\n",
        "  pred_toks = get_tokens(a_pred)\n",
        "  common = collections.Counter(gold_toks) & collections.Counter(pred_toks)\n",
        "  num_same = sum(common.values())\n",
        "  if len(gold_toks) == 0 or len(pred_toks) == 0:\n",
        "    # If either is no-answer, then F1 is 1 if they agree, 0 otherwise\n",
        "    return int(gold_toks == pred_toks)\n",
        "  if num_same == 0:\n",
        "    return 0\n",
        "  precision = 1.0 * num_same / len(pred_toks)\n",
        "  recall = 1.0 * num_same / len(gold_toks)\n",
        "  f1 = (2 * precision * recall) / (precision + recall)\n",
        "  return f1\n",
        "\n",
        "# Calculate the f1 score between prediction and multiple ground truths\n",
        "def calc_max_f1(predicted, ground_truths):\n",
        "  max_f1 = 0\n",
        "  for ground_truth in ground_truths:\n",
        "    f1 = calc_f1(predicted, ground_truth)\n",
        "    max_f1 = max(max_f1, f1)\n",
        "  try:\n",
        "    ground_truths[0]\n",
        "  except Exception as e:\n",
        "    if predicted!=predicted:\n",
        "      max_f1 = 1\n",
        "  return max_f1"
      ]
    },
    {
      "cell_type": "code",
      "source": [
        "questions_df = pd.read_csv('https://drive.google.com/uc?export=download&id=14Semm5RXuaQ2UwlIKfi5HtFX_5LzNSGX')\n",
        "theme_df = pd.read_csv('https://drive.google.com/uc?export=download&id=1gaB73lLklzYxFIj3nmttG7UGisptz7mB')\n",
        "# para_df = pd.read_csv('https://drive.google.com/uc?export=download&id=10LO_evy-N3uGR6QF9DatWIFb_nHPH6mv')"
      ],
      "metadata": {
        "id": "cMsfcMfaUBv0"
      },
      "execution_count": 107,
      "outputs": []
    },
    {
      "cell_type": "code",
      "execution_count": 108,
      "metadata": {
        "colab": {
          "base_uri": "https://localhost:8080/"
        },
        "id": "4MKJvoXe3Fri",
        "outputId": "2a0e16f3-2c79-4208-bba1-dbafb5499132"
      },
      "outputs": [
        {
          "output_type": "stream",
          "name": "stderr",
          "text": [
            "  1%|          | 2/327 [00:00<00:46,  7.06it/s]/usr/local/lib/python3.8/dist-packages/transformers/pipelines/base.py:1045: UserWarning: You seem to be using the pipelines sequentially on GPU. In order to maximize efficiency please use a dataset\n",
            "  warnings.warn(\n",
            "100%|██████████| 327/327 [00:16<00:00, 19.42it/s]"
          ]
        },
        {
          "output_type": "stream",
          "name": "stdout",
          "text": [
            "\n",
            "avg_inference_time: 17.0\n"
          ]
        },
        {
          "output_type": "stream",
          "name": "stderr",
          "text": [
            "\n"
          ]
        }
      ],
      "source": [
        "# All theme prediction.\n",
        "from tqdm import tqdm\n",
        "questions = json.loads(questions_df.to_json(orient=\"records\"))\n",
        "theme_intervals = json.loads(theme_df.to_json(orient=\"records\"))\n",
        "pred_out = []\n",
        "theme_inf_time = {}\n",
        "execution_times = []\n",
        "for theme_interval in tqdm(theme_intervals):\n",
        "  theme_ques = questions[int(theme_interval[\"start\"]) - 1: int(theme_interval[\"end\"])]\n",
        "  execution_time = timeit.timeit(lambda: pred_theme_ans(theme_ques, pred_out), number=1)\n",
        "  execution_times.append(execution_time/len(theme_ques))\n",
        "  theme_inf_time[theme_interval[\"theme\"]] = execution_time * 1000 # in milliseconds.\n",
        "pred_df = pd.DataFrame.from_records(pred_out)\n",
        "# Write prediction to a CSV file. Teams are required to submit this csv file.\n",
        "pred_df.to_csv('/content/output_prediction.csv', index=False)\n",
        "print(\"\\navg_inference_time:\",round(sum(execution_times)/len(theme_intervals),3)*1000)"
      ]
    },
    {
      "cell_type": "code",
      "execution_count": 109,
      "metadata": {
        "colab": {
          "base_uri": "https://localhost:8080/",
          "height": 423
        },
        "id": "35HAUvHaBCV6",
        "outputId": "cc99a584-02c2-4f3d-f543-deed8e8133a8"
      },
      "outputs": [
        {
          "output_type": "execute_result",
          "data": {
            "text/plain": [
              "     question_id               answers\n",
              "0              1  1988 Summer Olympics\n",
              "1              2                  1200\n",
              "2              3       the French flag\n",
              "3              4       Baichung Bhutia\n",
              "4              5                      \n",
              "..           ...                   ...\n",
              "995          996                  view\n",
              "996          997                      \n",
              "997          998                      \n",
              "998          999          small people\n",
              "999         1000                      \n",
              "\n",
              "[1000 rows x 2 columns]"
            ],
            "text/html": [
              "\n",
              "  <div id=\"df-09860bf9-3335-4a7e-9dea-209277bf0d87\">\n",
              "    <div class=\"colab-df-container\">\n",
              "      <div>\n",
              "<style scoped>\n",
              "    .dataframe tbody tr th:only-of-type {\n",
              "        vertical-align: middle;\n",
              "    }\n",
              "\n",
              "    .dataframe tbody tr th {\n",
              "        vertical-align: top;\n",
              "    }\n",
              "\n",
              "    .dataframe thead th {\n",
              "        text-align: right;\n",
              "    }\n",
              "</style>\n",
              "<table border=\"1\" class=\"dataframe\">\n",
              "  <thead>\n",
              "    <tr style=\"text-align: right;\">\n",
              "      <th></th>\n",
              "      <th>question_id</th>\n",
              "      <th>answers</th>\n",
              "    </tr>\n",
              "  </thead>\n",
              "  <tbody>\n",
              "    <tr>\n",
              "      <th>0</th>\n",
              "      <td>1</td>\n",
              "      <td>1988 Summer Olympics</td>\n",
              "    </tr>\n",
              "    <tr>\n",
              "      <th>1</th>\n",
              "      <td>2</td>\n",
              "      <td>1200</td>\n",
              "    </tr>\n",
              "    <tr>\n",
              "      <th>2</th>\n",
              "      <td>3</td>\n",
              "      <td>the French flag</td>\n",
              "    </tr>\n",
              "    <tr>\n",
              "      <th>3</th>\n",
              "      <td>4</td>\n",
              "      <td>Baichung Bhutia</td>\n",
              "    </tr>\n",
              "    <tr>\n",
              "      <th>4</th>\n",
              "      <td>5</td>\n",
              "      <td></td>\n",
              "    </tr>\n",
              "    <tr>\n",
              "      <th>...</th>\n",
              "      <td>...</td>\n",
              "      <td>...</td>\n",
              "    </tr>\n",
              "    <tr>\n",
              "      <th>995</th>\n",
              "      <td>996</td>\n",
              "      <td>view</td>\n",
              "    </tr>\n",
              "    <tr>\n",
              "      <th>996</th>\n",
              "      <td>997</td>\n",
              "      <td></td>\n",
              "    </tr>\n",
              "    <tr>\n",
              "      <th>997</th>\n",
              "      <td>998</td>\n",
              "      <td></td>\n",
              "    </tr>\n",
              "    <tr>\n",
              "      <th>998</th>\n",
              "      <td>999</td>\n",
              "      <td>small people</td>\n",
              "    </tr>\n",
              "    <tr>\n",
              "      <th>999</th>\n",
              "      <td>1000</td>\n",
              "      <td></td>\n",
              "    </tr>\n",
              "  </tbody>\n",
              "</table>\n",
              "<p>1000 rows × 2 columns</p>\n",
              "</div>\n",
              "      <button class=\"colab-df-convert\" onclick=\"convertToInteractive('df-09860bf9-3335-4a7e-9dea-209277bf0d87')\"\n",
              "              title=\"Convert this dataframe to an interactive table.\"\n",
              "              style=\"display:none;\">\n",
              "        \n",
              "  <svg xmlns=\"http://www.w3.org/2000/svg\" height=\"24px\"viewBox=\"0 0 24 24\"\n",
              "       width=\"24px\">\n",
              "    <path d=\"M0 0h24v24H0V0z\" fill=\"none\"/>\n",
              "    <path d=\"M18.56 5.44l.94 2.06.94-2.06 2.06-.94-2.06-.94-.94-2.06-.94 2.06-2.06.94zm-11 1L8.5 8.5l.94-2.06 2.06-.94-2.06-.94L8.5 2.5l-.94 2.06-2.06.94zm10 10l.94 2.06.94-2.06 2.06-.94-2.06-.94-.94-2.06-.94 2.06-2.06.94z\"/><path d=\"M17.41 7.96l-1.37-1.37c-.4-.4-.92-.59-1.43-.59-.52 0-1.04.2-1.43.59L10.3 9.45l-7.72 7.72c-.78.78-.78 2.05 0 2.83L4 21.41c.39.39.9.59 1.41.59.51 0 1.02-.2 1.41-.59l7.78-7.78 2.81-2.81c.8-.78.8-2.07 0-2.86zM5.41 20L4 18.59l7.72-7.72 1.47 1.35L5.41 20z\"/>\n",
              "  </svg>\n",
              "      </button>\n",
              "      \n",
              "  <style>\n",
              "    .colab-df-container {\n",
              "      display:flex;\n",
              "      flex-wrap:wrap;\n",
              "      gap: 12px;\n",
              "    }\n",
              "\n",
              "    .colab-df-convert {\n",
              "      background-color: #E8F0FE;\n",
              "      border: none;\n",
              "      border-radius: 50%;\n",
              "      cursor: pointer;\n",
              "      display: none;\n",
              "      fill: #1967D2;\n",
              "      height: 32px;\n",
              "      padding: 0 0 0 0;\n",
              "      width: 32px;\n",
              "    }\n",
              "\n",
              "    .colab-df-convert:hover {\n",
              "      background-color: #E2EBFA;\n",
              "      box-shadow: 0px 1px 2px rgba(60, 64, 67, 0.3), 0px 1px 3px 1px rgba(60, 64, 67, 0.15);\n",
              "      fill: #174EA6;\n",
              "    }\n",
              "\n",
              "    [theme=dark] .colab-df-convert {\n",
              "      background-color: #3B4455;\n",
              "      fill: #D2E3FC;\n",
              "    }\n",
              "\n",
              "    [theme=dark] .colab-df-convert:hover {\n",
              "      background-color: #434B5C;\n",
              "      box-shadow: 0px 1px 3px 1px rgba(0, 0, 0, 0.15);\n",
              "      filter: drop-shadow(0px 1px 2px rgba(0, 0, 0, 0.3));\n",
              "      fill: #FFFFFF;\n",
              "    }\n",
              "  </style>\n",
              "\n",
              "      <script>\n",
              "        const buttonEl =\n",
              "          document.querySelector('#df-09860bf9-3335-4a7e-9dea-209277bf0d87 button.colab-df-convert');\n",
              "        buttonEl.style.display =\n",
              "          google.colab.kernel.accessAllowed ? 'block' : 'none';\n",
              "\n",
              "        async function convertToInteractive(key) {\n",
              "          const element = document.querySelector('#df-09860bf9-3335-4a7e-9dea-209277bf0d87');\n",
              "          const dataTable =\n",
              "            await google.colab.kernel.invokeFunction('convertToInteractive',\n",
              "                                                     [key], {});\n",
              "          if (!dataTable) return;\n",
              "\n",
              "          const docLinkHtml = 'Like what you see? Visit the ' +\n",
              "            '<a target=\"_blank\" href=https://colab.research.google.com/notebooks/data_table.ipynb>data table notebook</a>'\n",
              "            + ' to learn more about interactive tables.';\n",
              "          element.innerHTML = '';\n",
              "          dataTable['output_type'] = 'display_data';\n",
              "          await google.colab.output.renderOutput(dataTable, element);\n",
              "          const docLink = document.createElement('div');\n",
              "          docLink.innerHTML = docLinkHtml;\n",
              "          element.appendChild(docLink);\n",
              "        }\n",
              "      </script>\n",
              "    </div>\n",
              "  </div>\n",
              "  "
            ]
          },
          "metadata": {},
          "execution_count": 109
        }
      ],
      "source": [
        "pred_df"
      ]
    },
    {
      "cell_type": "code",
      "execution_count": 110,
      "metadata": {
        "colab": {
          "base_uri": "https://localhost:8080/",
          "height": 423
        },
        "id": "vo1iGCtCfBJz",
        "outputId": "b9d74529-0415-4b5f-cd37-0ccfaa47bf7d"
      },
      "outputs": [
        {
          "output_type": "execute_result",
          "data": {
            "text/plain": [
              "     Unnamed: 0  question_id                   answers\n",
              "0             0            1  ['1988 Summer Olympics']\n",
              "1             1            2                  ['1200']\n",
              "2             2            3       ['the French flag']\n",
              "3             3            4       ['Baichung Bhutia']\n",
              "4             4            5                        []\n",
              "..          ...          ...                       ...\n",
              "995         995          996                  ['view']\n",
              "996         996          997                        []\n",
              "997         997          998                        []\n",
              "998         998          999          ['small people']\n",
              "999         999         1000                        []\n",
              "\n",
              "[1000 rows x 3 columns]"
            ],
            "text/html": [
              "\n",
              "  <div id=\"df-e3f2064e-6bfc-4aa9-8d2a-1171a639a5f7\">\n",
              "    <div class=\"colab-df-container\">\n",
              "      <div>\n",
              "<style scoped>\n",
              "    .dataframe tbody tr th:only-of-type {\n",
              "        vertical-align: middle;\n",
              "    }\n",
              "\n",
              "    .dataframe tbody tr th {\n",
              "        vertical-align: top;\n",
              "    }\n",
              "\n",
              "    .dataframe thead th {\n",
              "        text-align: right;\n",
              "    }\n",
              "</style>\n",
              "<table border=\"1\" class=\"dataframe\">\n",
              "  <thead>\n",
              "    <tr style=\"text-align: right;\">\n",
              "      <th></th>\n",
              "      <th>Unnamed: 0</th>\n",
              "      <th>question_id</th>\n",
              "      <th>answers</th>\n",
              "    </tr>\n",
              "  </thead>\n",
              "  <tbody>\n",
              "    <tr>\n",
              "      <th>0</th>\n",
              "      <td>0</td>\n",
              "      <td>1</td>\n",
              "      <td>['1988 Summer Olympics']</td>\n",
              "    </tr>\n",
              "    <tr>\n",
              "      <th>1</th>\n",
              "      <td>1</td>\n",
              "      <td>2</td>\n",
              "      <td>['1200']</td>\n",
              "    </tr>\n",
              "    <tr>\n",
              "      <th>2</th>\n",
              "      <td>2</td>\n",
              "      <td>3</td>\n",
              "      <td>['the French flag']</td>\n",
              "    </tr>\n",
              "    <tr>\n",
              "      <th>3</th>\n",
              "      <td>3</td>\n",
              "      <td>4</td>\n",
              "      <td>['Baichung Bhutia']</td>\n",
              "    </tr>\n",
              "    <tr>\n",
              "      <th>4</th>\n",
              "      <td>4</td>\n",
              "      <td>5</td>\n",
              "      <td>[]</td>\n",
              "    </tr>\n",
              "    <tr>\n",
              "      <th>...</th>\n",
              "      <td>...</td>\n",
              "      <td>...</td>\n",
              "      <td>...</td>\n",
              "    </tr>\n",
              "    <tr>\n",
              "      <th>995</th>\n",
              "      <td>995</td>\n",
              "      <td>996</td>\n",
              "      <td>['view']</td>\n",
              "    </tr>\n",
              "    <tr>\n",
              "      <th>996</th>\n",
              "      <td>996</td>\n",
              "      <td>997</td>\n",
              "      <td>[]</td>\n",
              "    </tr>\n",
              "    <tr>\n",
              "      <th>997</th>\n",
              "      <td>997</td>\n",
              "      <td>998</td>\n",
              "      <td>[]</td>\n",
              "    </tr>\n",
              "    <tr>\n",
              "      <th>998</th>\n",
              "      <td>998</td>\n",
              "      <td>999</td>\n",
              "      <td>['small people']</td>\n",
              "    </tr>\n",
              "    <tr>\n",
              "      <th>999</th>\n",
              "      <td>999</td>\n",
              "      <td>1000</td>\n",
              "      <td>[]</td>\n",
              "    </tr>\n",
              "  </tbody>\n",
              "</table>\n",
              "<p>1000 rows × 3 columns</p>\n",
              "</div>\n",
              "      <button class=\"colab-df-convert\" onclick=\"convertToInteractive('df-e3f2064e-6bfc-4aa9-8d2a-1171a639a5f7')\"\n",
              "              title=\"Convert this dataframe to an interactive table.\"\n",
              "              style=\"display:none;\">\n",
              "        \n",
              "  <svg xmlns=\"http://www.w3.org/2000/svg\" height=\"24px\"viewBox=\"0 0 24 24\"\n",
              "       width=\"24px\">\n",
              "    <path d=\"M0 0h24v24H0V0z\" fill=\"none\"/>\n",
              "    <path d=\"M18.56 5.44l.94 2.06.94-2.06 2.06-.94-2.06-.94-.94-2.06-.94 2.06-2.06.94zm-11 1L8.5 8.5l.94-2.06 2.06-.94-2.06-.94L8.5 2.5l-.94 2.06-2.06.94zm10 10l.94 2.06.94-2.06 2.06-.94-2.06-.94-.94-2.06-.94 2.06-2.06.94z\"/><path d=\"M17.41 7.96l-1.37-1.37c-.4-.4-.92-.59-1.43-.59-.52 0-1.04.2-1.43.59L10.3 9.45l-7.72 7.72c-.78.78-.78 2.05 0 2.83L4 21.41c.39.39.9.59 1.41.59.51 0 1.02-.2 1.41-.59l7.78-7.78 2.81-2.81c.8-.78.8-2.07 0-2.86zM5.41 20L4 18.59l7.72-7.72 1.47 1.35L5.41 20z\"/>\n",
              "  </svg>\n",
              "      </button>\n",
              "      \n",
              "  <style>\n",
              "    .colab-df-container {\n",
              "      display:flex;\n",
              "      flex-wrap:wrap;\n",
              "      gap: 12px;\n",
              "    }\n",
              "\n",
              "    .colab-df-convert {\n",
              "      background-color: #E8F0FE;\n",
              "      border: none;\n",
              "      border-radius: 50%;\n",
              "      cursor: pointer;\n",
              "      display: none;\n",
              "      fill: #1967D2;\n",
              "      height: 32px;\n",
              "      padding: 0 0 0 0;\n",
              "      width: 32px;\n",
              "    }\n",
              "\n",
              "    .colab-df-convert:hover {\n",
              "      background-color: #E2EBFA;\n",
              "      box-shadow: 0px 1px 2px rgba(60, 64, 67, 0.3), 0px 1px 3px 1px rgba(60, 64, 67, 0.15);\n",
              "      fill: #174EA6;\n",
              "    }\n",
              "\n",
              "    [theme=dark] .colab-df-convert {\n",
              "      background-color: #3B4455;\n",
              "      fill: #D2E3FC;\n",
              "    }\n",
              "\n",
              "    [theme=dark] .colab-df-convert:hover {\n",
              "      background-color: #434B5C;\n",
              "      box-shadow: 0px 1px 3px 1px rgba(0, 0, 0, 0.15);\n",
              "      filter: drop-shadow(0px 1px 2px rgba(0, 0, 0, 0.3));\n",
              "      fill: #FFFFFF;\n",
              "    }\n",
              "  </style>\n",
              "\n",
              "      <script>\n",
              "        const buttonEl =\n",
              "          document.querySelector('#df-e3f2064e-6bfc-4aa9-8d2a-1171a639a5f7 button.colab-df-convert');\n",
              "        buttonEl.style.display =\n",
              "          google.colab.kernel.accessAllowed ? 'block' : 'none';\n",
              "\n",
              "        async function convertToInteractive(key) {\n",
              "          const element = document.querySelector('#df-e3f2064e-6bfc-4aa9-8d2a-1171a639a5f7');\n",
              "          const dataTable =\n",
              "            await google.colab.kernel.invokeFunction('convertToInteractive',\n",
              "                                                     [key], {});\n",
              "          if (!dataTable) return;\n",
              "\n",
              "          const docLinkHtml = 'Like what you see? Visit the ' +\n",
              "            '<a target=\"_blank\" href=https://colab.research.google.com/notebooks/data_table.ipynb>data table notebook</a>'\n",
              "            + ' to learn more about interactive tables.';\n",
              "          element.innerHTML = '';\n",
              "          dataTable['output_type'] = 'display_data';\n",
              "          await google.colab.output.renderOutput(dataTable, element);\n",
              "          const docLink = document.createElement('div');\n",
              "          docLink.innerHTML = docLinkHtml;\n",
              "          element.appendChild(docLink);\n",
              "        }\n",
              "      </script>\n",
              "    </div>\n",
              "  </div>\n",
              "  "
            ]
          },
          "metadata": {},
          "execution_count": 110
        }
      ],
      "source": [
        "truth = pd.read_csv('https://drive.google.com/uc?export=download&id=1LghSTve3IzjZBmukNNpMOsjwDggTedyi')\n",
        "truth"
      ]
    },
    {
      "cell_type": "code",
      "execution_count": 111,
      "metadata": {
        "colab": {
          "base_uri": "https://localhost:8080/"
        },
        "id": "mK5jUhfl3FnC",
        "outputId": "c50e5e7c-9322-4516-c50a-b1a49a5c4039"
      },
      "outputs": [
        {
          "output_type": "stream",
          "name": "stdout",
          "text": [
            "0.952\n"
          ]
        }
      ],
      "source": [
        "# Evaluation methodology.\n",
        "metrics = {}\n",
        "total_f1 = 0\n",
        "pred = pd.read_csv('/content/output_prediction.csv')\n",
        "truth = pd.read_csv('https://drive.google.com/uc?export=download&id=1LghSTve3IzjZBmukNNpMOsjwDggTedyi')\n",
        "truth.answers = truth.answers.apply(literal_eval)\n",
        "questions = questions_df.copy()\n",
        "for idx in pred.index:\n",
        "  q_id = pred[\"question_id\"][idx]\n",
        "  q_rows = questions.loc[questions['id'] == q_id].iloc[-1]\n",
        "  theme = q_rows[\"Theme\"]\n",
        "  predicted_ans = pred[\"answers\"][idx]\n",
        "  \n",
        "  if theme not in metrics.keys():\n",
        "    metrics[theme] = {\"true_positive\": 0, \"true_negative\": 0, \"total_predictions\": 0, \"f1_sum\": 0}\n",
        "\n",
        "  truth_row = truth.loc[truth['question_id'] == q_id].iloc[-1]\n",
        "  if truth_row[\"answers\"] == ' ':\n",
        "     metrics[theme][\"true_negative\"] = metrics[theme][\"true_negative\"] + 1\n",
        "  else:\n",
        "     metrics[theme][\"true_positive\"] = metrics[theme][\"true_positive\"] + 1\n",
        " \n",
        "  # Increase total predictions for that theme.\n",
        "  metrics[theme][\"total_predictions\"] = metrics[theme][\"total_predictions\"] + 1\n",
        "  f1 = calc_max_f1(predicted_ans, truth_row[\"answers\"])\n",
        "  metrics[theme][\"f1_sum\"] = metrics[theme][\"f1_sum\"] + f1\n",
        "  total_f1+=f1\n",
        "print(round(total_f1/len(questions),3))"
      ]
    },
    {
      "cell_type": "code",
      "execution_count": 112,
      "metadata": {
        "colab": {
          "base_uri": "https://localhost:8080/"
        },
        "id": "M8tbMG1J3RL7",
        "outputId": "64d1f27f-1807-44e5-d669-0ebb85261d52"
      },
      "outputs": [
        {
          "output_type": "stream",
          "name": "stdout",
          "text": [
            "0.954\n"
          ]
        }
      ],
      "source": [
        "# Final score.\n",
        "inf_time_threshold = 200.0\n",
        "# final_para_score = 0.0\n",
        "final_qa_score = 0.0\n",
        "# Weight would stay hidden from teams.\n",
        "# theme_weights = {\"Computer_security\": 0.11, \"Uranium\": 0.44, \"Canadian_football\": 0.22,\"Seven_Years%27_War\": 0.11,\"ASCII\": 0.11}\n",
        "for theme in metrics:\n",
        "  inf_time_score = 1.0\n",
        "  metric = metrics[theme]\n",
        "  qa_score = metric[\"f1_sum\"] / metric[\"total_predictions\"]\n",
        "  avg_inf_time = theme_inf_time[theme] / metric[\"total_predictions\"]\n",
        "  if avg_inf_time > inf_time_threshold:\n",
        "    inf_time_score = inf_time_threshold / avg_inf_time\n",
        "  final_qa_score += 1/len(metrics) * inf_time_score * qa_score\n",
        "print (round(final_qa_score,3))\n"
      ]
    }
  ],
  "metadata": {
    "colab": {
      "collapsed_sections": [
        "Ne3y_6v3Tx06",
        "3qKTZPbcs4Jc",
        "tMLDWRDwp9iN",
        "qHUQ9YewpyQI",
        "-uj-UMgUXXj7"
      ],
      "provenance": []
    },
    "kernelspec": {
      "display_name": "Python 3",
      "name": "python3"
    },
    "language_info": {
      "name": "python"
    },
    "accelerator": "GPU",
    "gpuClass": "standard"
  },
  "nbformat": 4,
  "nbformat_minor": 0
}